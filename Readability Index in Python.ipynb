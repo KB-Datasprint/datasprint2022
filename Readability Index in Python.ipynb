{
 "cells": [
  {
   "cell_type": "markdown",
   "id": "add5fb5e",
   "metadata": {},
   "source": [
    "# Readability Index in Python\n",
    "\n",
    "Using Python we will calculate a measure of readability for our texts."
   ]
  },
  {
   "cell_type": "code",
   "execution_count": null,
   "id": "6649f2ca",
   "metadata": {},
   "outputs": [],
   "source": [
    "import pandas as pd\n",
    "#pip install ReadabilityCalculator\n",
    "from readcalc import readcalc\n",
    "import nltk\n",
    "#nltk.download('punkt')\n",
    "\n",
    "## NB - ikke i beskrivelse ovenfor\n",
    "from langdetect import detect"
   ]
  },
  {
   "cell_type": "markdown",
   "id": "84b53423",
   "metadata": {},
   "source": [
    "# Read data file"
   ]
  },
  {
   "cell_type": "code",
   "execution_count": null,
   "id": "997e0d71",
   "metadata": {},
   "outputs": [],
   "source": [
    "df = pd.read_csv('./data/cookies.csv')"
   ]
  },
  {
   "cell_type": "code",
   "execution_count": null,
   "id": "13a345c6",
   "metadata": {},
   "outputs": [],
   "source": [
    "df['desc_lan'] = df.apply(lambda row: detect(row['description']), axis=1)"
   ]
  },
  {
   "cell_type": "markdown",
   "id": "28095c5c",
   "metadata": {},
   "source": [
    "We use this ReadabilityCalculator 0.2.37 library to calculate the lix index.\n",
    "\n",
    "Source: https://pypi.org/project/ReadabilityCalculator/ "
   ]
  },
  {
   "cell_type": "markdown",
   "id": "a333217d",
   "metadata": {},
   "source": [
    "# Test method on 'description' in first line"
   ]
  },
  {
   "cell_type": "code",
   "execution_count": null,
   "id": "0b2d3e64",
   "metadata": {},
   "outputs": [],
   "source": [
    "df.at[0,'description']"
   ]
  },
  {
   "cell_type": "code",
   "execution_count": null,
   "id": "e650715b",
   "metadata": {},
   "outputs": [],
   "source": [
    "text = df.at[0,'description']\n",
    "calc = readcalc.ReadCalc(text)"
   ]
  },
  {
   "cell_type": "code",
   "execution_count": null,
   "id": "fcff73d6",
   "metadata": {},
   "outputs": [],
   "source": [
    "# Use the help fuction to output the documentation \n",
    "help (calc)"
   ]
  },
  {
   "cell_type": "code",
   "execution_count": null,
   "id": "a463fc12",
   "metadata": {},
   "outputs": [],
   "source": [
    "print ('All metrix are:', calc.get_all_metrics(), '\\n')\n",
    "\n",
    "print ('Lix index is:', calc.get_lix_index())"
   ]
  },
  {
   "cell_type": "markdown",
   "id": "e46fb1d5",
   "metadata": {},
   "source": [
    "From the documentation we can read:\n",
    "- get_lix_index(self)\n",
    " -      Value interpretation:\n",
    " -      Very Easy      - 20, 25\n",
    " -      Easy           - 30, 35\n",
    " -      Medium         - 40. 45\n",
    " -      Difficult      - 50, 55\n",
    " -      Very Difficult - 60+\n",
    " \n",
    "We can conclude that the first text is 'Difficult' and close to 'Very Difficult' according to the result we get using the 'ReadabilityCalculator'."
   ]
  },
  {
   "cell_type": "markdown",
   "id": "adb86945",
   "metadata": {},
   "source": [
    "# Calculate the lix index of all descriptions "
   ]
  },
  {
   "cell_type": "code",
   "execution_count": null,
   "id": "c910abaa",
   "metadata": {},
   "outputs": [],
   "source": [
    "def lix_index(text):\n",
    "    calc = readcalc.ReadCalc(text)\n",
    "    return calc.get_lix_index()"
   ]
  },
  {
   "cell_type": "code",
   "execution_count": null,
   "id": "a190286d",
   "metadata": {},
   "outputs": [],
   "source": [
    "df['descrip_lix_level'] = df['description'].apply(lambda text: lix_index(text))"
   ]
  },
  {
   "cell_type": "markdown",
   "id": "5fb40642",
   "metadata": {},
   "source": [
    "Check if the new coloumn is where we except it to be (in far right side of the dataframe)."
   ]
  },
  {
   "cell_type": "code",
   "execution_count": null,
   "id": "07e047ea",
   "metadata": {},
   "outputs": [],
   "source": [
    "df.head(2)"
   ]
  },
  {
   "cell_type": "markdown",
   "id": "ddc62eff",
   "metadata": {},
   "source": [
    "Look at the distribution of the lix index."
   ]
  },
  {
   "cell_type": "code",
   "execution_count": null,
   "id": "f2c8cdbf",
   "metadata": {},
   "outputs": [],
   "source": [
    " df['descrip_lix_level'].describe() "
   ]
  },
  {
   "cell_type": "markdown",
   "id": "e9965e17",
   "metadata": {},
   "source": [
    "There is a max of 101 which is very remarkable.\n",
    "\n",
    "Try removing rows with values like 'pending'/'pending' with desc_df = df[df['description'].str.len() > 10] and run another describe: desc_df['descrip_lix_level'].describe()"
   ]
  },
  {
   "cell_type": "code",
   "execution_count": null,
   "id": "5e1d4988",
   "metadata": {},
   "outputs": [],
   "source": [
    "desc_df = df[df['description'].str.len() > 10]\n",
    "desc_df['descrip_lix_level'].describe()"
   ]
  },
  {
   "cell_type": "markdown",
   "id": "a9e85d14",
   "metadata": {},
   "source": [
    "Surprisingly, lix is lower without pending. Why is that so?\n",
    "\n",
    "Does one long word give a high score, because there are no short words to pull the score down?\n",
    "\n"
   ]
  },
  {
   "cell_type": "code",
   "execution_count": null,
   "id": "6018e9ce",
   "metadata": {},
   "outputs": [],
   "source": [
    "desc_df.sort_values('descrip_lix_level')"
   ]
  },
  {
   "cell_type": "markdown",
   "id": "6ccfb514",
   "metadata": {},
   "source": [
    "Try to work further with the lix numbers. Which companies have e.g. a low lix number?"
   ]
  }
 ],
 "metadata": {
  "kernelspec": {
   "display_name": "Python 3 (ipykernel)",
   "language": "python",
   "name": "python3"
  },
  "language_info": {
   "codemirror_mode": {
    "name": "ipython",
    "version": 3
   },
   "file_extension": ".py",
   "mimetype": "text/x-python",
   "name": "python",
   "nbconvert_exporter": "python",
   "pygments_lexer": "ipython3",
   "version": "3.8.10"
  }
 },
 "nbformat": 4,
 "nbformat_minor": 5
}
