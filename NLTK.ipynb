{
 "cells": [
  {
   "cell_type": "markdown",
   "metadata": {},
   "source": [
    "# NLTK - Natural Language Toolkit\n",
    "\n",
    "Natural Language Toolkit (NLTK) is a Python library that allows us to easily perform various text analyses on policy texts.\n",
    "\n",
    "NLTK includes a massive amount of useful tools. In this notebook, we will look at a few of them."
   ]
  },
  {
   "cell_type": "markdown",
   "metadata": {},
   "source": [
    "## Setup\n",
    "We start by importing the NLTK library, the pandas library and the langdetect library. If langdetect is not installed, we can install it with `!pip install langdetect`. We specifically import the `detect` function from langdetect. We also import pandas to handle the dataset."
   ]
  },
  {
   "cell_type": "code",
   "execution_count": 1,
   "metadata": {},
   "outputs": [],
   "source": [
    "import pandas as pd\n",
    "\n",
    "import nltk\n",
    "\n",
    "from langdetect import detect"
   ]
  },
  {
   "cell_type": "markdown",
   "metadata": {},
   "source": [
    "## Load data\n",
    "\n",
    "We load the data from a CSV-file."
   ]
  },
  {
   "cell_type": "code",
   "execution_count": 2,
   "metadata": {},
   "outputs": [],
   "source": [
    "df = pd.read_csv('./data/cookies.csv')"
   ]
  },
  {
   "cell_type": "markdown",
   "metadata": {},
   "source": [
    "### Prepare the data"
   ]
  },
  {
   "cell_type": "markdown",
   "metadata": {},
   "source": [
    "To remove duplicates on the specific column, `policy_text`, we use `df.drop_duplicates(subset=['policy_text'])`."
   ]
  },
  {
   "cell_type": "code",
   "execution_count": 3,
   "metadata": {},
   "outputs": [],
   "source": [
    "df = df.drop_duplicates(subset=['policy_text'])"
   ]
  },
  {
   "cell_type": "markdown",
   "metadata": {},
   "source": [
    "Using the library langdetect we can easily identify the language of a text with relatively high precision."
   ]
  },
  {
   "cell_type": "code",
   "execution_count": 4,
   "metadata": {},
   "outputs": [],
   "source": [
    "df['policy_lan'] = df.apply(lambda row: detect(row['policy_text']) if isinstance(row['policy_text'], str) else None, axis=1)"
   ]
  },
  {
   "cell_type": "markdown",
   "metadata": {},
   "source": [
    "Now we can subset our data based on language, which is very useful when we start analysing the text.\n",
    "\n",
    "For instance, we can create a DataFrame with English policy texts and a DataFrame with Danish policy texts."
   ]
  },
  {
   "cell_type": "code",
   "execution_count": 5,
   "metadata": {},
   "outputs": [],
   "source": [
    "en_df = df[df['policy_lan'] == 'en']\n",
    "\n",
    "da_df = df[df['policy_lan'] == 'da']"
   ]
  },
  {
   "cell_type": "markdown",
   "metadata": {},
   "source": [
    " We need our text data in the form of a text string to use the nltk module. "
   ]
  },
  {
   "cell_type": "code",
   "execution_count": 6,
   "metadata": {},
   "outputs": [],
   "source": [
    "text_str_en = ' '.join(en_df['policy_text'])\n",
    "\n",
    "text_str_da = ' '.join(da_df['policy_text'])"
   ]
  },
  {
   "cell_type": "markdown",
   "metadata": {},
   "source": [
    "In order to work with our text data, we need to process our text strings a bit.\n",
    "\n",
    "First, we convert the text into a list of tokens with the NLTK `word_tokenize()` function. We also create a NLTK `Text` object which allows us to apply various NLTK methods."
   ]
  },
  {
   "cell_type": "code",
   "execution_count": 7,
   "metadata": {},
   "outputs": [],
   "source": [
    "tokens_en = nltk.word_tokenize(text_str_en)\n",
    "\n",
    "tokens_da = nltk.word_tokenize(text_str_da)"
   ]
  },
  {
   "cell_type": "markdown",
   "metadata": {},
   "source": [
    "The `Text` object is created from the list of tokens."
   ]
  },
  {
   "cell_type": "code",
   "execution_count": 8,
   "metadata": {},
   "outputs": [],
   "source": [
    "text_en = nltk.Text(tokens_en)\n",
    "\n",
    "text_da = nltk.Text(tokens_da)"
   ]
  },
  {
   "cell_type": "markdown",
   "metadata": {},
   "source": [
    "## NLTK methods\n",
    "\n",
    "With our `Text` objects we can perform a number of text analyses."
   ]
  },
  {
   "cell_type": "markdown",
   "metadata": {},
   "source": [
    "### `count()`\n",
    "The simplest method is `count()`, which returns the count of a specific term."
   ]
  },
  {
   "cell_type": "code",
   "execution_count": 9,
   "metadata": {},
   "outputs": [
    {
     "name": "stdout",
     "output_type": "stream",
     "text": [
      "294\n",
      "38\n"
     ]
    }
   ],
   "source": [
    "print (text_en.count('Google'))\n",
    "\n",
    "print (text_da.count('Google'))"
   ]
  },
  {
   "cell_type": "markdown",
   "metadata": {},
   "source": [
    "### `collocation_list()`\n",
    "Similar to the n-grams notebook, `collocation_list()` returns a list of the most common word pairs in the text. Notice, that in some versions of Python `collocation_list()` doesn't work. If this is the case, try `collocations()` instead."
   ]
  },
  {
   "cell_type": "code",
   "execution_count": 10,
   "metadata": {
    "scrolled": true
   },
   "outputs": [
    {
     "name": "stdout",
     "output_type": "stream",
     "text": [
      "[('Personal', 'Data'), ('personal', 'data'), ('Privacy', 'Policy'), ('third', 'parties'), ('personal', 'information'), ('third', 'party'), ('service', 'providers'), ('Personal', 'Information'), ('email', 'address'), ('may', 'also'), ('United', 'States'), ('Data', 'Protection'), ('data', 'protection'), ('Privacy', 'Shield'), ('social', 'media'), ('legitimate', 'interest'), ('Please', 'note'), ('New', 'York'), ('operating', 'system'), ('Economic', 'Area')]\n",
      "\n",
      "\n",
      "[('HTML', 'Local'), ('Local', 'Storage'), ('HTTP', 'Cookie'), ('Berlingske', 'Media'), ('dine', 'personoplysninger'), ('Persistent', 'HTML'), ('JP/Politikens', 'Hus'), ('dit', 'samtykke'), ('Media', 'A/S'), ('ret', 'til'), ('forbindelse', 'med'), ('enhver', 'tid'), ('adgang', 'til'), ('sociale', 'medier'), ('henhold', 'til'), ('legitime', 'interesse'), ('brugerens', 'video-afspiller-præferencer'), ('med', 'henblik'), ('det', 'muligt'), ('indlejret', 'YouTube')]\n"
     ]
    }
   ],
   "source": [
    "print (text_en.collocation_list())\n",
    "\n",
    "print ('\\n')\n",
    "\n",
    "print (text_da.collocation_list())"
   ]
  },
  {
   "cell_type": "markdown",
   "metadata": {},
   "source": [
    "### `concordance()`\n",
    "The `concordance()` method returns the context of a specific term. The length of the output can be modified with the `width` and `lines` keyword-parameters."
   ]
  },
  {
   "cell_type": "code",
   "execution_count": 11,
   "metadata": {},
   "outputs": [
    {
     "name": "stdout",
     "output_type": "stream",
     "text": [
      "Displaying 25 of 294 matches:\n",
      "LinkedIn , Twitter , Facebook , and Google products , including YouTube . Your\n",
      "7001:2013 vendor approval process . Google Analytics We use Google Analytics a\n",
      "l process . Google Analytics We use Google Analytics as a web analysis solutio\n",
      "ur digital solutions to the service Google offers for analysis . In this regar\n",
      "ers for analysis . In this regard , Google Analytics functions as a “ Data pro\n",
      "ts . The recordings are stored with Google . We delete the recordings maximum \n",
      "elow : For Android : ( 1 ) Open the Google Settings app on your device ; and (\n",
      "methods : Method 1 : ( 1 ) Open the Google Settings app on your device ; ( 2 )\n",
      " web analytics tools , specifically Google Analytics to track your interaction\n",
      " statistical reports . Where we use Google Analytics , we share this informati\n",
      "cs , we share this information with Google to help Google improve its capabili\n",
      "his information with Google to help Google improve its capabilities for analyz\n",
      " sites . For more information about Google Analytics , go to : http : //www.go\n",
      "https3 monthsThis cookie is used by Google Analytics to understand user intera\n",
      "s2 yearsThis cookie is installed by Google Analytics . The cookie is used to c\n",
      "tps1 dayThis cookie is installed by Google Analytics . The cookie is used to s\n",
      "g_UA_142773176_1https1 minuteSet by Google to distinguish users.AdvertisingAdv\n",
      "Dhttps6 monthsThis cookie is set by Google . This cookie applies an anonymous \n",
      "vider.IDEhttps1 year 24 daysUsed by Google DoubleClick and stores information \n",
      "ies-remove-info-websites-stored c ) Google chrome https : //support.google.com\n",
      "p.instagram.com/155833707900388 e ) Google : https : //www.google.com/intl/en-\n",
      "n-GB/policies/privacy/ 4.3 . We use Google Analytics and similar services ( e.\n",
      "ill be transmitted to and stored by Google on servers in the United States . G\n",
      "e on servers in the United States . Google will use this information for the p\n",
      "bsite activity and internet usage . Google may also transfer this information \n",
      "None\n",
      "\n",
      "\n",
      "Displaying 25 of 38 matches:\n",
      "m_UA- # Jyllands-posten Anvendes af Google Tag Manager til at styre indlæsning\n",
      "anager til at styre indlæsningen af Google Analytics script . 1 dag HTTP Cooki\n",
      "at Ritzau Indsamler information til Google Analytics omkring brugen af produkt\n",
      "deejeren - Cookien tillader også at Google Ads og Google Analytics kan anvende\n",
      "kien tillader også at Google Ads og Google Analytics kan anvende disse data i \n",
      "_gcl_au Jyllands-posten Benyttes af Google Adsense til at eksperimentere med e\n",
      "ed på alle hjemmesider der benytter Google Adsense . 3 mdr . HTTP Cookie _sp_ \n",
      "nnoncører . 3 mdr . HTTP Cookie IDE Google Anvendes af Google DoubleClick til \n",
      " HTTP Cookie IDE Google Anvendes af Google DoubleClick til at registrere og ra\n",
      " HTTP Cookie pagead/1p-user-list/ # Google Indsamler data om brugerens interes\n",
      "Pixel Tracker pagead/landing [ x2 ] Google Indsamler præferencedata på en spec\n",
      "r Session Pixel Tracker test_cookie Google Anvendes til at tjekke om brugerens\n",
      "ype : HTTP_ga_ # [ x2 ] Anvendes af Google Analytics til at indsamle data om a\n",
      "øb : 2 årType : HTTP_gatAnvendes af Google Analytics til at drosle hastigheden\n",
      "vide om denne udbyderIDEAnvendes af Google DoubleClick til at registrere og ra\n",
      "ssionType : Pixel_gcl_auBenyttes af Google Adsense til at eksperimentere med e\n",
      "ed på alle hjemmesider der benytter Google Adsense.Udløb : 3 mdr.Type : HTTPHu\n",
      "ng til at fjerne cookies nedenfor : Google Chrome Mozilla Firefox Internet Exp\n",
      "llinger . 7.5 Cookies fra Gemius og Google ( trafikmålinger ) Infomedia benytt\n",
      "edia benytter cookies fra Gemius og Google . Målingerne udføres under nøje iag\n",
      " Infomedias apps . Infomedia bruger Google Firebase samt Google Analytics til \n",
      "fomedia bruger Google Firebase samt Google Analytics til at samle adfærdsdata \n",
      "færdsdata og sende notifikationer . Google aggregerer desuden oplysninger , he\n",
      "g muligheder omkring Infomedias app Google giver i deres API brugere mulighed \n",
      "når du tilmelder dig med Facebook , Google eller Apple og ikke giver tilladels\n",
      "None\n"
     ]
    }
   ],
   "source": [
    "print (text_en.concordance('Google'))\n",
    "\n",
    "print ('\\n')\n",
    "\n",
    "print (text_da.concordance('Google'))"
   ]
  },
  {
   "cell_type": "markdown",
   "metadata": {},
   "source": [
    "### `similar()`\n",
    "In order to identify words that appear in a similar context, we can use the `similar()` method. This can sometimes be useful if we want to look for similar concept sand synonyms."
   ]
  },
  {
   "cell_type": "code",
   "execution_count": 12,
   "metadata": {
    "scrolled": true
   },
   "outputs": [
    {
     "name": "stdout",
     "output_type": "stream",
     "text": [
      "information content services cookies service request website consent\n",
      "rights processing device privacy site account and the use websites\n",
      "sites browser\n",
      "None\n",
      "\n",
      "\n",
      "personoplysninger oplysninger cookies persondata os informationer valg\n",
      "rettigheder apps hvis kan dig bruges brugere behandling lovgivning\n",
      "artikel browserindstillinger funktioner privatlivspolitik\n",
      "None\n"
     ]
    }
   ],
   "source": [
    "print (text_en.similar('data'))\n",
    "\n",
    "print ('\\n')\n",
    "\n",
    "print (text_da.similar('data'))"
   ]
  },
  {
   "cell_type": "markdown",
   "metadata": {},
   "source": [
    "## Frequency distribution\n",
    "Frequency distribution is another useful tool built into NLTK which gives us a quick overview of the most common words in our text.\n",
    "\n",
    "We generate the frequency distribution from our list of tokens with the `FreqDist()` function."
   ]
  },
  {
   "cell_type": "code",
   "execution_count": 13,
   "metadata": {},
   "outputs": [],
   "source": [
    "fdist_en = nltk.FreqDist(tokens_en)\n",
    "\n",
    "fdist_da = nltk.FreqDist(tokens_da)"
   ]
  },
  {
   "cell_type": "markdown",
   "metadata": {},
   "source": [
    "We can then inspect the most common words. The `most_common()` method returns a number of the most common tokens and how many times they appear in the text."
   ]
  },
  {
   "cell_type": "code",
   "execution_count": 14,
   "metadata": {},
   "outputs": [
    {
     "name": "stdout",
     "output_type": "stream",
     "text": [
      "[(',', 10176), ('to', 6618), ('the', 6396), ('.', 5958), ('and', 5642), ('of', 4432), ('you', 3753), ('or', 3713), ('your', 3640), ('information', 2495)]\n",
      "\n",
      "\n",
      "[(',', 2152), ('.', 1472), ('at', 936), ('og', 926), ('af', 915), ('til', 781), ('du', 573), ('på', 549), ('for', 533), ('i', 509)]\n"
     ]
    }
   ],
   "source": [
    "print (fdist_en.most_common(10))\n",
    "\n",
    "print('\\n')\n",
    "\n",
    "print (fdist_da.most_common(10))"
   ]
  },
  {
   "cell_type": "markdown",
   "metadata": {},
   "source": [
    "The immediate results are not very interesting. This is a good time for some data cleaning."
   ]
  },
  {
   "cell_type": "markdown",
   "metadata": {},
   "source": [
    "### Removing stop words\n",
    "Our initial results included a lot of short, uninteresting words. These are commonly known as stop words. We can exclude these from our analysis by applying a list of stop words.\n",
    "\n",
    "For this purpose, NLTK has a built-in list of stop words that we can use."
   ]
  },
  {
   "cell_type": "code",
   "execution_count": 15,
   "metadata": {},
   "outputs": [],
   "source": [
    "stopwords_en = nltk.corpus.stopwords.words('english')\n",
    "\n",
    "stopwords_da = nltk.corpus.stopwords.words('danish')"
   ]
  },
  {
   "cell_type": "markdown",
   "metadata": {},
   "source": [
    "We then filter the list of tokens against the stop words. First, we create a new, empty list for the filtered tokens. We then iterate over the list of tokens and for each word, we check if the word is in the stop words list. To get rid of punctuation, we also check if the word consists of characters with the string method `isalpha()`. If these two conditions are met, we append the word to our new list."
   ]
  },
  {
   "cell_type": "code",
   "execution_count": 16,
   "metadata": {},
   "outputs": [],
   "source": [
    "filtered_tokens_en = []\n",
    "\n",
    "for word in tokens_en:\n",
    "    if word.lower() not in stopwords_en and word.isalpha():\n",
    "        filtered_tokens_en.append(word)\n",
    "        \n",
    "        \n",
    "filtered_tokens_da = []\n",
    "\n",
    "for word in tokens_da:\n",
    "    if word.lower() not in stopwords_da and word.isalpha():\n",
    "        filtered_tokens_da.append(word)"
   ]
  },
  {
   "cell_type": "markdown",
   "metadata": {},
   "source": [
    "Now we can create a new frequency distribution from the filtered tokens."
   ]
  },
  {
   "cell_type": "code",
   "execution_count": 17,
   "metadata": {},
   "outputs": [],
   "source": [
    "fdist_filtered_en = nltk.FreqDist(filtered_tokens_en)\n",
    "\n",
    "fdist_filtered_da = nltk.FreqDist(filtered_tokens_da)"
   ]
  },
  {
   "cell_type": "code",
   "execution_count": 18,
   "metadata": {},
   "outputs": [
    {
     "name": "stdout",
     "output_type": "stream",
     "text": [
      "[('information', 2495), ('data', 1649), ('may', 1542), ('use', 1312), ('personal', 1104), ('Data', 1025), ('us', 1000), ('Privacy', 693), ('Personal', 681), ('services', 649)]\n",
      "\n",
      "\n",
      "[('kan', 395), ('personoplysninger', 371), ('vores', 336), ('dine', 330), ('oplysninger', 222), ('cookies', 196), ('data', 152), ('dit', 126), ('ved', 118), ('bruger', 111)]\n"
     ]
    }
   ],
   "source": [
    "print (fdist_filtered_en.most_common(10))\n",
    "\n",
    "print ('\\n')\n",
    "\n",
    "print (fdist_filtered_da.most_common(10))"
   ]
  },
  {
   "cell_type": "markdown",
   "metadata": {},
   "source": [
    "The results are better than before but we still have a lot of uninteresting words.\n",
    "\n",
    "### Custom stop words list\n",
    "Whenever the NLTK stop words list is insufficient we can supply our own list of stop words which can be tailored to a specific domain.\n",
    "\n",
    "We add new stop words to the list using append to list. "
   ]
  },
  {
   "cell_type": "code",
   "execution_count": 19,
   "metadata": {},
   "outputs": [],
   "source": [
    "new_stop_words_en = ('may','use')\n",
    "for i in new_stop_words_en:\n",
    "    stopwords_en.append(i)\n",
    "    \n",
    "new_stop_words_da = ('dit','ved')\n",
    "for i in new_stop_words_da:\n",
    "    stopwords_da.append(i)"
   ]
  },
  {
   "cell_type": "markdown",
   "metadata": {},
   "source": [
    "We now create a new list for words filtered against our custom stop words list.\n",
    "\n",
    "Notice, that we also convert each word to lower case in order to catch more stop words."
   ]
  },
  {
   "cell_type": "code",
   "execution_count": 20,
   "metadata": {},
   "outputs": [],
   "source": [
    "clean_tokens_en = []\n",
    "\n",
    "for word in tokens_en:\n",
    "    if word.lower() not in stopwords_en and word.isalpha():\n",
    "        clean_tokens_en.append(word.lower())\n",
    "        \n",
    "        \n",
    "clean_tokens_da = []\n",
    "\n",
    "for word in tokens_da:\n",
    "    if word.lower() not in stopwords_da and word.isalpha():\n",
    "        clean_tokens_da.append(word.lower())"
   ]
  },
  {
   "cell_type": "markdown",
   "metadata": {},
   "source": [
    "We create a new frequency distributions and inspect the results."
   ]
  },
  {
   "cell_type": "code",
   "execution_count": 21,
   "metadata": {},
   "outputs": [],
   "source": [
    "fdist_clean_en = nltk.FreqDist(clean_tokens_en)\n",
    "\n",
    "fdist_clean_da = nltk.FreqDist(clean_tokens_da)"
   ]
  },
  {
   "cell_type": "code",
   "execution_count": 22,
   "metadata": {},
   "outputs": [
    {
     "name": "stdout",
     "output_type": "stream",
     "text": [
      "[('information', 3094), ('data', 2697), ('personal', 1796), ('services', 1142), ('privacy', 1130), ('us', 1126), ('service', 770), ('cookies', 734), ('website', 646), ('content', 624), ('policy', 621), ('provide', 598), ('third', 551), ('collect', 543), ('also', 470), ('including', 454), ('contact', 444), ('request', 431), ('processing', 419), ('rights', 411)]\n",
      "\n",
      "\n",
      "[('kan', 396), ('personoplysninger', 386), ('vores', 358), ('dine', 350), ('oplysninger', 249), ('cookies', 229), ('data', 158), ('bruger', 112), ('samtykke', 111), ('andre', 93), ('indsamler', 92), ('media', 89), ('brug', 88), ('cookie', 87), ('berlingske', 85), ('hvordan', 70), ('indhold', 68), ('soundcloud', 68), ('annoncer', 67), ('platformen', 62)]\n"
     ]
    }
   ],
   "source": [
    "print (fdist_clean_en.most_common(20))\n",
    "\n",
    "print ('\\n')\n",
    "\n",
    "print (fdist_clean_da.most_common(20))"
   ]
  },
  {
   "cell_type": "markdown",
   "metadata": {},
   "source": [
    "Again, the results are better but not perfect."
   ]
  },
  {
   "cell_type": "markdown",
   "metadata": {},
   "source": [
    "### Word length\n",
    "Most of the common words in our filtered text are short and does not carry a lot of meaning. If we assume that short words in general are uninteresting, we can filter our text again and only keep words above a certain length.\n",
    "\n",
    "Below create a new list of tokens and only keep words with a length above six characters."
   ]
  },
  {
   "cell_type": "code",
   "execution_count": 23,
   "metadata": {},
   "outputs": [],
   "source": [
    "long_tokens_en = []\n",
    "\n",
    "for word in filtered_tokens_en:\n",
    "    if len(word) > 6:\n",
    "        long_tokens_en.append(word)\n",
    "        \n",
    "        \n",
    "long_tokens_da = []\n",
    "\n",
    "for word in filtered_tokens_da:\n",
    "    if len(word) > 6:\n",
    "        long_tokens_da.append(word)"
   ]
  },
  {
   "cell_type": "markdown",
   "metadata": {},
   "source": [
    "We create a frequency distribution of the long words and inspect the most common words."
   ]
  },
  {
   "cell_type": "code",
   "execution_count": 24,
   "metadata": {},
   "outputs": [],
   "source": [
    "fdist_long_en = nltk.FreqDist(long_tokens_en)\n",
    "\n",
    "fdist_long_da = nltk.FreqDist(long_tokens_da)"
   ]
  },
  {
   "cell_type": "code",
   "execution_count": 25,
   "metadata": {},
   "outputs": [
    {
     "name": "stdout",
     "output_type": "stream",
     "text": [
      "[('information', 2495), ('personal', 1104), ('Privacy', 693), ('Personal', 681), ('services', 649), ('cookies', 567), ('provide', 566), ('Information', 554), ('collect', 511), ('Services', 480), ('including', 451), ('Service', 450), ('privacy', 418), ('content', 401), ('request', 397), ('process', 373), ('processing', 364), ('account', 343), ('consent', 340), ('website', 337)]\n",
      "\n",
      "\n",
      "[('personoplysninger', 371), ('oplysninger', 222), ('cookies', 196), ('samtykke', 108), ('Berlingske', 85), ('indsamler', 75), ('SoundCloud', 68), ('indhold', 67), ('annoncer', 66), ('platformen', 60), ('beskyttelse', 59), ('behandler', 58), ('hjemmesiden', 57), ('Storage', 55), ('tjenester', 54), ('hvordan', 53), ('behandling', 50), ('persondata', 47), ('herunder', 46), ('rettigheder', 46)]\n"
     ]
    }
   ],
   "source": [
    "print (fdist_long_en.most_common(20))\n",
    "\n",
    "print ('\\n')\n",
    "\n",
    "print (fdist_long_da.most_common(20))"
   ]
  },
  {
   "cell_type": "markdown",
   "metadata": {},
   "source": [
    "Now our results are somewhat interesting, as we have a lot more meaningful words."
   ]
  },
  {
   "cell_type": "markdown",
   "metadata": {},
   "source": [
    "### Plotting frequency distribution\n",
    "For a visual representation of the frequency distribution we can use the `plot()` method. We supply the method with the number of words we want to include.\n",
    "\n",
    "Notice, that if we call the method without a number, Python will attempt to include all unique words in the text, which will be a very taxing operation without any value to us."
   ]
  },
  {
   "cell_type": "markdown",
   "metadata": {},
   "source": [
    "We can add a title to our plot with the `title` keyword."
   ]
  },
  {
   "cell_type": "code",
   "execution_count": 26,
   "metadata": {
    "scrolled": false
   },
   "outputs": [
    {
     "data": {
      "image/png": "[encoded data removed]",
      "text/plain": [
       "<Figure size 432x288 with 1 Axes>"
      ]
     },
     "metadata": {
      "needs_background": "light"
     },
     "output_type": "display_data"
    },
    {
     "data": {
      "text/plain": [
       "<AxesSubplot:title={'center':'Most common words'}, xlabel='Samples', ylabel='Counts'>"
      ]
     },
     "execution_count": 26,
     "metadata": {},
     "output_type": "execute_result"
    }
   ],
   "source": [
    "fdist_long_en.plot(30, title='Most common words')"
   ]
  },
  {
   "cell_type": "markdown",
   "metadata": {},
   "source": [
    "We can also count the terms cumulatively with the `cumulative` keyword."
   ]
  },
  {
   "cell_type": "code",
   "execution_count": 27,
   "metadata": {
    "scrolled": true
   },
   "outputs": [
    {
     "data": {
      "image/png": "[encoded data removed]",
      "text/plain": [
       "<Figure size 432x288 with 1 Axes>"
      ]
     },
     "metadata": {
      "needs_background": "light"
     },
     "output_type": "display_data"
    },
    {
     "data": {
      "text/plain": [
       "<AxesSubplot:title={'center':'Most common words (Cumulative)'}, xlabel='Samples', ylabel='Cumulative Counts'>"
      ]
     },
     "execution_count": 27,
     "metadata": {},
     "output_type": "execute_result"
    }
   ],
   "source": [
    "fdist_long_en.plot(30, title='Most common words (Cumulative)', cumulative=True)"
   ]
  },
  {
   "cell_type": "markdown",
   "metadata": {},
   "source": [
    "## Wrap up\n",
    "\n",
    "NLTK is a very large and powerful Python library and the possibilities are virtually endless. In this notebook, we have scratched the surface and demonstrated some of the tools.\n",
    "\n",
    "We have converted our data to a `Text` object which allows us to perform a number analyses with little effort. We have also worked with frequency distributions and refined our data for a better result.\n",
    "\n",
    "The examples in this notebook are adapted from the book [Natural Language Processing with Python](https://www.nltk.org/book/), which is a recommended resource if you want to learn more about NLTK."
   ]
  }
 ],
 "metadata": {
  "kernelspec": {
   "display_name": "Python 3 (ipykernel)",
   "language": "python",
   "name": "python3"
  },
  "language_info": {
   "codemirror_mode": {
    "name": "ipython",
    "version": 3
   },
   "file_extension": ".py",
   "mimetype": "text/x-python",
   "name": "python",
   "nbconvert_exporter": "python",
   "pygments_lexer": "ipython3",
   "version": "3.8.10"
  }
 },
 "nbformat": 4,
 "nbformat_minor": 4
}
